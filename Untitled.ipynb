{
 "cells": [
  {
   "cell_type": "code",
   "execution_count": 1,
   "metadata": {},
   "outputs": [],
   "source": [
    "%matplotlib inline\n",
    "from ipywidgets import interactive\n",
    "import matplotlib.pyplot as plt\n",
    "import numpy as np"
   ]
  },
  {
   "cell_type": "code",
   "execution_count": 2,
   "metadata": {
    "code_folding": [
     32
    ]
   },
   "outputs": [],
   "source": [
    "\n",
    "import csv\n",
    "\n",
    "import matplotlib.pyplot as plt\n",
    "import numpy as np\n",
    "from astropy.convolution import Gaussian1DKernel, convolve\n",
    "from scipy.optimize import least_squares\n",
    "from joblib import Parallel, delayed\n",
    "from kaufmann import *\n",
    "\n",
    "path_to_file = 'hT__Heterostructure_5keV_BGO.txt'\n",
    "counts = []\n",
    "with open(path_to_file, 'r') as myfile:\n",
    "    csv_reader = csv.reader(\n",
    "        myfile,\n",
    "        delimiter=' ',\n",
    "        skipinitialspace=True,\n",
    "        escapechar='#',\n",
    "        quoting=csv.QUOTE_NONNUMERIC)\n",
    "    for number, line in enumerate(csv_reader):\n",
    "        counts = np.append(counts, line[0])\n",
    "\n",
    "# range_end = 6001\n",
    "norm = 15 * 10**3\n",
    "background = np.mean(counts[5000:5900])\n",
    "posC0 = 399\n",
    "sigma = 10\n",
    "# changed (kevin)\n",
    "X_train = np.linspace(1, 5000, 5000)\n",
    "Y_train = counts[1:5000 + 1]\n",
    "\n",
    "\n",
    "def Jacobian(x, params):\n",
    "    # wolfram alpha:\n",
    "    # jacobian (a_0, a_1*exp(-b_1*x), a_2*exp(-b_2*x),a_3*exp(-b_3*x),a_4*exp(-b_4*x)) with respect to (a_0, a_1, a_2, a_3, a_4, b_1, b_2, b_3, b_4)\n",
    "    a = params[0:5]\n",
    "    b = params[5:]\n",
    "    J = np.array([\n",
    "         [\n",
    "             1, 0, 0, 0, 0, 0, 0, 0, 0\n",
    "         ],\n",
    "         [\n",
    "          0, np.exp(-x * b[1]), 0, 0, 0, -np.exp(-x * b[1]) * x * a[1], 0, 0, 0\n",
    "         ],\n",
    "         [\n",
    "          0, 0, np.exp(-x * b[2]), 0, 0, 0, -np.exp(-x * b[2]) * x * a[2], 0, 0\n",
    "         ],\n",
    "         [\n",
    "          0, 0, 0, np.exp(-x * b[3]), 0, 0, 0, -np.exp(-x * b[3]) * x * a[3], 0\n",
    "         ],\n",
    "         [\n",
    "          0, 0, 0, 0, np.exp(-x * b[4]), 0, 0, 0, -np.exp(-x * b[4]) * x * a[4]\n",
    "         ]\n",
    "                 ])\n",
    "    return J\n"
   ]
  },
  {
   "cell_type": "code",
   "execution_count": 8,
   "metadata": {},
   "outputs": [],
   "source": [
    "X_train = X_train[397:2000]\n",
    "Y_train = Y_train[397:2000] / Y_train[397:].max()\n",
    "\n",
    "\n",
    "def exp_decay(e, c, d):\n",
    "    array = []\n",
    "    a, b = Kaufmann2003Solve(int(4), X_train, Y_train)\n",
    "    # range end is now an integer\n",
    "    for x in range(len(X_train)):\n",
    "        value = a[0] + e * np.exp(-b[0]*x)   \\\n",
    "                     + c * np.exp(-b[1]*x)   \\\n",
    "                     + d * np.exp(-b[2]*x)   \\\n",
    "                     + a[4] * np.exp(-b[3]*x)\n",
    "        array = np.append(array, value)\n",
    "    gauss_1D_kernel_250ps = Gaussian1DKernel(sigma)\n",
    "    astropy_conv = convolve(array, gauss_1D_kernel_250ps)\n",
    "    Y_train_fit = astropy_conv / astropy_conv.max()\n",
    "    plt.semilogy(X_train, Y_train_fit, label='fit')\n",
    "    plt.semilogy(X_train, Y_train, label = 'real data')\n",
    "    plt.xlabel('250ps/bin')\n",
    "    plt.ylabel('counts')\n",
    "    plt.legend(loc = 'best')\n",
    "    plt.title('random fit')\n",
    "    plt.show()"
   ]
  },
  {
   "cell_type": "code",
   "execution_count": 11,
   "metadata": {},
   "outputs": [
    {
     "data": {
      "application/vnd.jupyter.widget-view+json": {
       "model_id": "d792dc3f20744882a0b4d108a047b95e",
       "version_major": 2,
       "version_minor": 0
      },
      "text/plain": [
       "interactive(children=(FloatSlider(value=1.0, description='e', max=2.0), FloatSlider(value=1.4, description='c'…"
      ]
     },
     "metadata": {},
     "output_type": "display_data"
    }
   ],
   "source": [
    "interactive_plot = interactive(exp_decay, e=(0, 2.0, 0.1), c=(-0.1, 3, 0.5), d = (0, 3, 0.5))\n",
    "output = interactive_plot.children[-1]\n",
    "output.layout.height = '350px'\n",
    "interactive_plot"
   ]
  },
  {
   "cell_type": "code",
   "execution_count": null,
   "metadata": {},
   "outputs": [],
   "source": []
  }
 ],
 "metadata": {
  "kernelspec": {
   "display_name": "Python 3",
   "language": "python",
   "name": "python3"
  },
  "language_info": {
   "codemirror_mode": {
    "name": "ipython",
    "version": 3
   },
   "file_extension": ".py",
   "mimetype": "text/x-python",
   "name": "python",
   "nbconvert_exporter": "python",
   "pygments_lexer": "ipython3",
   "version": "3.7.1"
  },
  "varInspector": {
   "cols": {
    "lenName": 16,
    "lenType": 16,
    "lenVar": 40
   },
   "kernels_config": {
    "python": {
     "delete_cmd_postfix": "",
     "delete_cmd_prefix": "del ",
     "library": "var_list.py",
     "varRefreshCmd": "print(var_dic_list())"
    },
    "r": {
     "delete_cmd_postfix": ") ",
     "delete_cmd_prefix": "rm(",
     "library": "var_list.r",
     "varRefreshCmd": "cat(var_dic_list()) "
    }
   },
   "types_to_exclude": [
    "module",
    "function",
    "builtin_function_or_method",
    "instance",
    "_Feature"
   ],
   "window_display": false
  }
 },
 "nbformat": 4,
 "nbformat_minor": 2
}
